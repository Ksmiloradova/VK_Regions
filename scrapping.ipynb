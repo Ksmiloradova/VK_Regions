{
 "cells": [
  {
   "cell_type": "markdown",
   "metadata": {},
   "source": [
    "# Imports"
   ]
  },
  {
   "cell_type": "code",
   "execution_count": 105,
   "metadata": {},
   "outputs": [],
   "source": [
    "import requests\n",
    "import pandas as pd"
   ]
  },
  {
   "cell_type": "code",
   "execution_count": 102,
   "metadata": {},
   "outputs": [],
   "source": [
    "TOKEN_USER = 'vk1.a.0LpMo8zBZqZqRNZgQ8JFBjlBVNZdkIfxYv3StVngm1QO4Wv4qyFoYgtO2_eazpoA7UNLKx9it_8Ty3M0L4Frur15FjwWFefBkOou-gMsIKoin20mw0NqBOaOox9IIyyXOfDH0oJ0WJH_xtAvqseCHUO51uWCFj-bgueEXfJzEjyM8rCp4yJQdX7XHShM5PbwFCQYYHcL056PGjxyW4p8Lg'\n",
    "VERSION = 5.81"
   ]
  },
  {
   "cell_type": "markdown",
   "metadata": {},
   "source": [
    "# Wall"
   ]
  },
  {
   "cell_type": "code",
   "execution_count": 104,
   "metadata": {},
   "outputs": [
    {
     "ename": "KeyError",
     "evalue": "'response'",
     "output_type": "error",
     "traceback": [
      "\u001b[1;31m---------------------------------------------------------------------------\u001b[0m",
      "\u001b[1;31mKeyError\u001b[0m                                  Traceback (most recent call last)",
      "\u001b[1;32mc:\\Users\\ksenia\\Desktop\\VK_Regions\\scrapping.ipynb Cell 5\u001b[0m line \u001b[0;36m1\n\u001b[0;32m      <a href='vscode-notebook-cell:/c%3A/Users/ksenia/Desktop/VK_Regions/scrapping.ipynb#W2sZmlsZQ%3D%3D?line=3'>4</a>\u001b[0m \u001b[39m# через api vk вызываем статистику постов\u001b[39;00m\n\u001b[0;32m      <a href='vscode-notebook-cell:/c%3A/Users/ksenia/Desktop/VK_Regions/scrapping.ipynb#W2sZmlsZQ%3D%3D?line=4'>5</a>\u001b[0m response \u001b[39m=\u001b[39m requests\u001b[39m.\u001b[39mget(\u001b[39m'\u001b[39m\u001b[39mhttps://api.vk.com/method/wall.get\u001b[39m\u001b[39m'\u001b[39m,\n\u001b[0;32m      <a href='vscode-notebook-cell:/c%3A/Users/ksenia/Desktop/VK_Regions/scrapping.ipynb#W2sZmlsZQ%3D%3D?line=5'>6</a>\u001b[0m params\u001b[39m=\u001b[39m{\u001b[39m'\u001b[39m\u001b[39maccess_token\u001b[39m\u001b[39m'\u001b[39m: TOKEN_USER,\n\u001b[0;32m      <a href='vscode-notebook-cell:/c%3A/Users/ksenia/Desktop/VK_Regions/scrapping.ipynb#W2sZmlsZQ%3D%3D?line=6'>7</a>\u001b[0m         \u001b[39m'\u001b[39m\u001b[39mv\u001b[39m\u001b[39m'\u001b[39m: VERSION,\n\u001b[0;32m      <a href='vscode-notebook-cell:/c%3A/Users/ksenia/Desktop/VK_Regions/scrapping.ipynb#W2sZmlsZQ%3D%3D?line=7'>8</a>\u001b[0m         \u001b[39m'\u001b[39m\u001b[39mdomain\u001b[39m\u001b[39m'\u001b[39m: DOMAIN,\n\u001b[0;32m      <a href='vscode-notebook-cell:/c%3A/Users/ksenia/Desktop/VK_Regions/scrapping.ipynb#W2sZmlsZQ%3D%3D?line=8'>9</a>\u001b[0m         \u001b[39m'\u001b[39m\u001b[39mcount\u001b[39m\u001b[39m'\u001b[39m: \u001b[39m100\u001b[39m,\n\u001b[0;32m     <a href='vscode-notebook-cell:/c%3A/Users/ksenia/Desktop/VK_Regions/scrapping.ipynb#W2sZmlsZQ%3D%3D?line=9'>10</a>\u001b[0m         \u001b[39m'\u001b[39m\u001b[39mfilter\u001b[39m\u001b[39m'\u001b[39m: \u001b[39mstr\u001b[39m(\u001b[39m'\u001b[39m\u001b[39mowner\u001b[39m\u001b[39m'\u001b[39m)})\n\u001b[1;32m---> <a href='vscode-notebook-cell:/c%3A/Users/ksenia/Desktop/VK_Regions/scrapping.ipynb#W2sZmlsZQ%3D%3D?line=11'>12</a>\u001b[0m data \u001b[39m=\u001b[39m response\u001b[39m.\u001b[39;49mjson()[\u001b[39m'\u001b[39;49m\u001b[39mresponse\u001b[39;49m\u001b[39m'\u001b[39;49m][\u001b[39m'\u001b[39m\u001b[39mitems\u001b[39m\u001b[39m'\u001b[39m]\n\u001b[0;32m     <a href='vscode-notebook-cell:/c%3A/Users/ksenia/Desktop/VK_Regions/scrapping.ipynb#W2sZmlsZQ%3D%3D?line=13'>14</a>\u001b[0m data\n",
      "\u001b[1;31mKeyError\u001b[0m: 'response'"
     ]
    }
   ],
   "source": [
    "# переменные \n",
    "DOMAIN = 'ksmilor'\n",
    "\n",
    "# через api vk вызываем статистику постов\n",
    "response = requests.get('https://api.vk.com/method/wall.get',\n",
    "params={'access_token': TOKEN_USER,\n",
    "        'v': VERSION,\n",
    "        'domain': DOMAIN,\n",
    "        'count': 100,\n",
    "        'filter': str('owner')})\n",
    "\n",
    "data = response.json()['response']['items']\n",
    "\n",
    "data"
   ]
  },
  {
   "cell_type": "code",
   "execution_count": null,
   "metadata": {},
   "outputs": [],
   "source": [
    "# считаем сколько фото у поста, заводи все в df\n",
    "id = []\n",
    "photo = []\n",
    "\n",
    "for post in data:\n",
    "        id.append(post['id'])\n",
    "        try:\n",
    "                photo.append(len(post['attachments']))\n",
    "        except:\n",
    "                photo.append(0)\n",
    "\n",
    "df_photo = pd.DataFrame(\n",
    "    {'id': id,\n",
    "     'photo.count': photo,\n",
    "    })\n",
    "\n",
    "df_photo"
   ]
  },
  {
   "cell_type": "markdown",
   "metadata": {},
   "source": [
    "# User"
   ]
  },
  {
   "cell_type": "code",
   "execution_count": 106,
   "metadata": {},
   "outputs": [
    {
     "data": {
      "text/plain": [
       "{'error': {'error_code': 5,\n",
       "  'error_msg': 'User authorization failed: access_token has expired.',\n",
       "  'request_params': [{'key': 'v', 'value': '5.81'},\n",
       "   {'key': 'user_ids', 'value': 'ksmilor,mergenaliev,romans91s'},\n",
       "   {'key': 'fields',\n",
       "    'value': 'activities,bdate,career,connections,contacts,city,country,education,followers_count,home_town,interests,sex,site,schools,screen_name,verified,games,interests,is_favorite,is_hidden_from_feed,military,occupation,personal,relatives,tv,universities'},\n",
       "   {'key': 'method', 'value': 'users.get'},\n",
       "   {'key': 'oauth', 'value': '1'}]}}"
      ]
     },
     "execution_count": 106,
     "metadata": {},
     "output_type": "execute_result"
    }
   ],
   "source": [
    "# переменные \n",
    "user_ids = ['ksmilor','mergenaliev']\n",
    "\n",
    "# через api vk вызываем статистику постов\n",
    "response = requests.get('https://api.vk.com/method/users.get',\n",
    "params={'access_token': TOKEN_USER,\n",
    "        'v': VERSION,\n",
    "        'user_ids': 'ksmilor,mergenaliev,romans91s',\n",
    "        'fields':fields\n",
    "        })\n",
    "\n",
    "data = response.json()\n",
    "\n",
    "data"
   ]
  },
  {
   "cell_type": "code",
   "execution_count": null,
   "metadata": {},
   "outputs": [
    {
     "data": {
      "text/html": [
       "<div>\n",
       "<style scoped>\n",
       "    .dataframe tbody tr th:only-of-type {\n",
       "        vertical-align: middle;\n",
       "    }\n",
       "\n",
       "    .dataframe tbody tr th {\n",
       "        vertical-align: top;\n",
       "    }\n",
       "\n",
       "    .dataframe thead th {\n",
       "        text-align: right;\n",
       "    }\n",
       "</style>\n",
       "<table border=\"1\" class=\"dataframe\">\n",
       "  <thead>\n",
       "    <tr style=\"text-align: right;\">\n",
       "      <th></th>\n",
       "      <th>id</th>\n",
       "      <th>nickname</th>\n",
       "      <th>maiden_name</th>\n",
       "      <th>domain</th>\n",
       "      <th>bdate</th>\n",
       "      <th>country</th>\n",
       "      <th>interests</th>\n",
       "      <th>tv</th>\n",
       "      <th>games</th>\n",
       "      <th>activities</th>\n",
       "      <th>...</th>\n",
       "      <th>relation</th>\n",
       "      <th>personal</th>\n",
       "      <th>universities</th>\n",
       "      <th>schools</th>\n",
       "      <th>relatives</th>\n",
       "      <th>sex</th>\n",
       "      <th>screen_name</th>\n",
       "      <th>verified</th>\n",
       "      <th>first_name</th>\n",
       "      <th>last_name</th>\n",
       "    </tr>\n",
       "  </thead>\n",
       "  <tbody>\n",
       "    <tr>\n",
       "      <th>0</th>\n",
       "      <td>557281</td>\n",
       "      <td></td>\n",
       "      <td></td>\n",
       "      <td>id557281</td>\n",
       "      <td>27.8</td>\n",
       "      <td>{'id': 1, 'title': 'Россия'}</td>\n",
       "      <td></td>\n",
       "      <td></td>\n",
       "      <td></td>\n",
       "      <td>Квиз, игры, мероприятия, объединения</td>\n",
       "      <td>...</td>\n",
       "      <td>6</td>\n",
       "      <td>{'alcohol': 0, 'inspired_by': '', 'life_main':...</td>\n",
       "      <td>[{'chair': 2825, 'chair_name': 'Экономики и ме...</td>\n",
       "      <td>[{'city': 183, 'class': 'а', 'class_id': 1, 'c...</td>\n",
       "      <td>[]</td>\n",
       "      <td>1</td>\n",
       "      <td>id557281</td>\n",
       "      <td>0</td>\n",
       "      <td>Елена</td>\n",
       "      <td>Зенина</td>\n",
       "    </tr>\n",
       "  </tbody>\n",
       "</table>\n",
       "<p>1 rows × 37 columns</p>\n",
       "</div>"
      ],
      "text/plain": [
       "       id nickname maiden_name    domain bdate                       country  \\\n",
       "0  557281                       id557281  27.8  {'id': 1, 'title': 'Россия'}   \n",
       "\n",
       "  interests tv games                            activities  ... relation  \\\n",
       "0                     Квиз, игры, мероприятия, объединения  ...        6   \n",
       "\n",
       "                                            personal  \\\n",
       "0  {'alcohol': 0, 'inspired_by': '', 'life_main':...   \n",
       "\n",
       "                                        universities  \\\n",
       "0  [{'chair': 2825, 'chair_name': 'Экономики и ме...   \n",
       "\n",
       "                                             schools  relatives  sex  \\\n",
       "0  [{'city': 183, 'class': 'а', 'class_id': 1, 'c...         []    1   \n",
       "\n",
       "   screen_name verified first_name last_name  \n",
       "0     id557281        0      Елена    Зенина  \n",
       "\n",
       "[1 rows x 37 columns]"
      ]
     },
     "execution_count": 42,
     "metadata": {},
     "output_type": "execute_result"
    }
   ],
   "source": [
    "df = pd.DataFrame(data['response'])\n",
    "df"
   ]
  },
  {
   "cell_type": "markdown",
   "metadata": {},
   "source": [
    "# Friends list"
   ]
  },
  {
   "cell_type": "code",
   "execution_count": null,
   "metadata": {},
   "outputs": [
    {
     "data": {
      "text/plain": [
       "'557281,1793395,2127295,6515392,6747600,12109170,12394699,19232952,22641531,25640732,59675289,63204161,63962118,64685527,73583238,78540201,84758091,96456295,101303502,111894340,133502655,134804032,135894476,145931702,150333556,156145234,157671799,169537266,172687990,176166846,176366874,177629723,180505208,184272849,187009462,196381990,199795261,205331634,210811253,211989843,212467458,212840542,213297136,217575314,220211769,220919408,223511322,228715038,234752303,235604093,236149860,236398645,236804760,239854581,240973249,241106774,241463983,252259200,268873089,282774219,288114568,291208586,292717531,293644539,322595425,340626235,344138219,354400977,357287964,357441382,360919281,367370311,381703955,382214467,407876921,416021202,441269099,446626232,461564742,470607976,472706030,534898631,606676290,610185800,643812931,680425807,683061488,733570371,781357483'"
      ]
     },
     "execution_count": 65,
     "metadata": {},
     "output_type": "execute_result"
    }
   ],
   "source": [
    "# переменные \n",
    "user_ids = ['ksmilor','mergenaliev']\n",
    "\n",
    "response = requests.get('https://api.vk.com/method/friends.get',\n",
    "params={'access_token': TOKEN_USER,\n",
    "        'v': VERSION,\n",
    "        # 'user_ids': 'ksmilor,mergenaliev,romans91s',\n",
    "        # 'fields':'screen_name'\n",
    "        })\n",
    "\n",
    "data = response.json()['response']\n",
    "\n",
    "list_id = data['items']\n",
    "list_id = ','.join(str(i) for i in list_id)\n",
    "list_id"
   ]
  },
  {
   "cell_type": "code",
   "execution_count": null,
   "metadata": {},
   "outputs": [
    {
     "ename": "KeyError",
     "evalue": "'response'",
     "output_type": "error",
     "traceback": [
      "\u001b[1;31m---------------------------------------------------------------------------\u001b[0m",
      "\u001b[1;31mKeyError\u001b[0m                                  Traceback (most recent call last)",
      "\u001b[1;32mc:\\Users\\ksenia\\Desktop\\VK_Regions\\scrapping.ipynb Cell 12\u001b[0m line \u001b[0;36m1\n\u001b[0;32m      <a href='vscode-notebook-cell:/c%3A/Users/ksenia/Desktop/VK_Regions/scrapping.ipynb#X24sZmlsZQ%3D%3D?line=3'>4</a>\u001b[0m \u001b[39m# через api vk вызываем статистику постов\u001b[39;00m\n\u001b[0;32m      <a href='vscode-notebook-cell:/c%3A/Users/ksenia/Desktop/VK_Regions/scrapping.ipynb#X24sZmlsZQ%3D%3D?line=4'>5</a>\u001b[0m response \u001b[39m=\u001b[39m requests\u001b[39m.\u001b[39mget(\u001b[39m'\u001b[39m\u001b[39mhttps://api.vk.com/method/users.get\u001b[39m\u001b[39m'\u001b[39m,\n\u001b[0;32m      <a href='vscode-notebook-cell:/c%3A/Users/ksenia/Desktop/VK_Regions/scrapping.ipynb#X24sZmlsZQ%3D%3D?line=5'>6</a>\u001b[0m params\u001b[39m=\u001b[39m{\u001b[39m'\u001b[39m\u001b[39maccess_token\u001b[39m\u001b[39m'\u001b[39m: TOKEN_USER,\n\u001b[0;32m      <a href='vscode-notebook-cell:/c%3A/Users/ksenia/Desktop/VK_Regions/scrapping.ipynb#X24sZmlsZQ%3D%3D?line=6'>7</a>\u001b[0m         \u001b[39m'\u001b[39m\u001b[39mv\u001b[39m\u001b[39m'\u001b[39m: VERSION,\n\u001b[0;32m      <a href='vscode-notebook-cell:/c%3A/Users/ksenia/Desktop/VK_Regions/scrapping.ipynb#X24sZmlsZQ%3D%3D?line=7'>8</a>\u001b[0m         \u001b[39m'\u001b[39m\u001b[39muser_ids\u001b[39m\u001b[39m'\u001b[39m: list_id,\n\u001b[0;32m      <a href='vscode-notebook-cell:/c%3A/Users/ksenia/Desktop/VK_Regions/scrapping.ipynb#X24sZmlsZQ%3D%3D?line=8'>9</a>\u001b[0m         \u001b[39m'\u001b[39m\u001b[39mfields\u001b[39m\u001b[39m'\u001b[39m:fields\n\u001b[0;32m     <a href='vscode-notebook-cell:/c%3A/Users/ksenia/Desktop/VK_Regions/scrapping.ipynb#X24sZmlsZQ%3D%3D?line=9'>10</a>\u001b[0m         })\n\u001b[1;32m---> <a href='vscode-notebook-cell:/c%3A/Users/ksenia/Desktop/VK_Regions/scrapping.ipynb#X24sZmlsZQ%3D%3D?line=11'>12</a>\u001b[0m data \u001b[39m=\u001b[39m response\u001b[39m.\u001b[39;49mjson()[\u001b[39m'\u001b[39;49m\u001b[39mresponse\u001b[39;49m\u001b[39m'\u001b[39;49m]\n\u001b[0;32m     <a href='vscode-notebook-cell:/c%3A/Users/ksenia/Desktop/VK_Regions/scrapping.ipynb#X24sZmlsZQ%3D%3D?line=13'>14</a>\u001b[0m df \u001b[39m=\u001b[39m pd\u001b[39m.\u001b[39mDataFrame(data)\n\u001b[0;32m     <a href='vscode-notebook-cell:/c%3A/Users/ksenia/Desktop/VK_Regions/scrapping.ipynb#X24sZmlsZQ%3D%3D?line=14'>15</a>\u001b[0m df\n",
      "\u001b[1;31mKeyError\u001b[0m: 'response'"
     ]
    }
   ],
   "source": [
    "# переменные \n",
    "user_ids = ['ksmilor','mergenaliev']\n",
    "fields='activities,bdate,career,connections,contacts,city,country,education,followers_count,home_town,interests,sex,site,schools,screen_name,verified,games,interests,is_favorite,is_hidden_from_feed,military,occupation,personal,relatives,tv,universities'\n",
    "# через api vk вызываем статистику постов\n",
    "response = requests.get('https://api.vk.com/method/users.get',\n",
    "params={'access_token': TOKEN_USER,\n",
    "        'v': VERSION,\n",
    "        'user_ids': list_id,\n",
    "        'fields':fields\n",
    "        })\n",
    "\n",
    "data = response.json()['response']\n",
    "\n",
    "df = pd.DataFrame(data)\n",
    "df"
   ]
  },
  {
   "cell_type": "code",
   "execution_count": null,
   "metadata": {},
   "outputs": [
    {
     "name": "stdout",
     "output_type": "stream",
     "text": [
      "39\n",
      "education_form       69\n",
      "education_status     68\n",
      "twitter              88\n",
      "skype                83\n",
      "deactivated          88\n",
      "can_access_closed    88\n",
      "is_closed            88\n",
      "dtype: int64\n"
     ]
    }
   ],
   "source": [
    "d = df.isnull().sum()\n",
    "print(len(d))\n",
    "print(d[d>30])"
   ]
  },
  {
   "cell_type": "code",
   "execution_count": null,
   "metadata": {},
   "outputs": [
    {
     "name": "stdout",
     "output_type": "stream",
     "text": [
      "Очное отделение\n",
      "Очное отделение\n",
      "nan\n",
      "Заочное отделение\n",
      "nan\n",
      "nan\n",
      "nan\n",
      "Очное отделение\n",
      "nan\n",
      "nan\n",
      "nan\n",
      "nan\n",
      "Очное отделение\n",
      "nan\n",
      "nan\n",
      "nan\n",
      "Заочное отделение\n",
      "nan\n",
      "nan\n",
      "nan\n",
      "nan\n",
      "nan\n",
      "nan\n",
      "nan\n",
      "nan\n",
      "Очное отделение\n",
      "nan\n",
      "Очное отделение\n",
      "nan\n",
      "nan\n",
      "nan\n",
      "nan\n",
      "nan\n",
      "Очное отделение\n",
      "nan\n",
      "Очно-заочное отделение\n",
      "nan\n",
      "nan\n",
      "Очное отделение\n",
      "Очное отделение\n",
      "nan\n",
      "nan\n",
      "nan\n",
      "Очное отделение\n",
      "nan\n",
      "nan\n",
      "nan\n",
      "nan\n",
      "nan\n",
      "nan\n",
      "nan\n",
      "nan\n",
      "nan\n",
      "nan\n",
      "Очное отделение\n",
      "Очное отделение\n",
      "nan\n",
      "nan\n",
      "Очное отделение\n",
      "Очное отделение\n",
      "nan\n",
      "nan\n",
      "nan\n",
      "nan\n",
      "nan\n",
      "nan\n",
      "nan\n",
      "nan\n",
      "nan\n",
      "nan\n",
      "nan\n",
      "nan\n",
      "nan\n",
      "nan\n",
      "nan\n",
      "Очное отделение\n",
      "nan\n",
      "nan\n",
      "nan\n",
      "Очное отделение\n",
      "nan\n",
      "Очное отделение\n",
      "nan\n",
      "nan\n",
      "nan\n",
      "nan\n",
      "nan\n",
      "nan\n",
      "nan\n"
     ]
    }
   ],
   "source": [
    "for i in df['education_form']:\n",
    "    print(i)"
   ]
  }
 ],
 "metadata": {
  "kernelspec": {
   "display_name": "Python 3",
   "language": "python",
   "name": "python3"
  },
  "language_info": {
   "codemirror_mode": {
    "name": "ipython",
    "version": 3
   },
   "file_extension": ".py",
   "mimetype": "text/x-python",
   "name": "python",
   "nbconvert_exporter": "python",
   "pygments_lexer": "ipython3",
   "version": "3.11.6"
  }
 },
 "nbformat": 4,
 "nbformat_minor": 2
}
