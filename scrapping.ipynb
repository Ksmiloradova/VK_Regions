{
 "cells": [
  {
   "cell_type": "code",
   "execution_count": 1,
   "metadata": {},
   "outputs": [],
   "source": [
    "import requests\n",
    "import pandas as pd"
   ]
  },
  {
   "cell_type": "code",
   "execution_count": 2,
   "metadata": {},
   "outputs": [],
   "source": [
    "TOKEN_USER = 'vk1.a.Ho_zYaDuAw6MBIs_TQZaIlmRdFCkrpd8gRdVduA8X7isqeCkLwaJo7ZnLDpMHVO5tGrPjsQEntS0-4MQW3O3daBe7_owjty5XWopTS9-aZFTIgbb3Ha1PnBNoWI4xnusutmfplK4unBSMSDD_LOPJrHd2Z3CDis3w0OVdI7PWTd_cf6o8LDloxgVYTG8Zd8DKHu0v3P5qOINT-HUzRR_Jw'\n",
    "VERSION = 5.81"
   ]
  },
  {
   "cell_type": "code",
   "execution_count": 21,
   "metadata": {},
   "outputs": [],
   "source": [
    "# переменные \n",
    "DOMAIN = 'ksmilor'\n",
    "\n",
    "# через api vk вызываем статистику постов\n",
    "response = requests.get('https://api.vk.com/method/wall.get',\n",
    "params={'access_token': TOKEN_USER,\n",
    "        'v': VERSION,\n",
    "        'domain': DOMAIN,\n",
    "        'count': 100,\n",
    "        'filter': str('owner')})\n",
    "\n",
    "data = response.json()['response']['items']\n",
    "\n",
    "data"
   ]
  },
  {
   "cell_type": "code",
   "execution_count": 23,
   "metadata": {},
   "outputs": [],
   "source": [
    "# считаем сколько фото у поста, заводи все в df\n",
    "id = []\n",
    "photo = []\n",
    "\n",
    "for post in data:\n",
    "        id.append(post['id'])\n",
    "        try:\n",
    "                photo.append(len(post['attachments']))\n",
    "        except:\n",
    "                photo.append(0)\n",
    "\n",
    "df_photo = pd.DataFrame(\n",
    "    {'id': id,\n",
    "     'photo.count': photo,\n",
    "    })\n",
    "\n",
    "df_photo"
   ]
  },
  {
   "cell_type": "markdown",
   "metadata": {},
   "source": [
    "# User"
   ]
  },
  {
   "cell_type": "code",
   "execution_count": 9,
   "metadata": {},
   "outputs": [
    {
     "data": {
      "text/plain": [
       "{'response': [{'id': 145931702, 'first_name': 'Мерген', 'last_name': 'Алиев'},\n",
       "  {'id': 220211769, 'first_name': 'Роман', 'last_name': 'Серов'}]}"
      ]
     },
     "execution_count": 9,
     "metadata": {},
     "output_type": "execute_result"
    }
   ],
   "source": [
    "# переменные \n",
    "user_ids = ['ksmilor','mergenaliev']\n",
    "\n",
    "# через api vk вызываем статистику постов\n",
    "response = requests.get('https://api.vk.com/method/users.get',\n",
    "params={'access_token': TOKEN_USER,\n",
    "        'v': VERSION,\n",
    "        'user_ids': 'ksmilor,mergenaliev,romans91s'})\n",
    "\n",
    "data = response.json()\n",
    "\n",
    "data"
   ]
  },
  {
   "cell_type": "code",
   "execution_count": 12,
   "metadata": {},
   "outputs": [],
   "source": [
    "# переносим пользовалей в df\n",
    "id = []\n",
    "photo = []\n",
    "first_name, last_name = [], []\n",
    "\n",
    "for user in data['response']:\n",
    "        id.append(user['id'])\n",
    "        first_name.append(user['first_name'])\n",
    "        last_name.append(user['last_name'])\n",
    "        # try:\n",
    "        #         photo.append(len(user['attachments']))\n",
    "        # except:\n",
    "        #         photo.append(0)\n",
    "\n",
    "df = pd.DataFrame(\n",
    "    {'id': id,\n",
    "    'first_name' : first_name,\n",
    "    'last_name' : last_name,\n",
    "    })"
   ]
  },
  {
   "cell_type": "code",
   "execution_count": 14,
   "metadata": {},
   "outputs": [
    {
     "data": {
      "text/html": [
       "<div>\n",
       "<style scoped>\n",
       "    .dataframe tbody tr th:only-of-type {\n",
       "        vertical-align: middle;\n",
       "    }\n",
       "\n",
       "    .dataframe tbody tr th {\n",
       "        vertical-align: top;\n",
       "    }\n",
       "\n",
       "    .dataframe thead th {\n",
       "        text-align: right;\n",
       "    }\n",
       "</style>\n",
       "<table border=\"1\" class=\"dataframe\">\n",
       "  <thead>\n",
       "    <tr style=\"text-align: right;\">\n",
       "      <th></th>\n",
       "      <th>id</th>\n",
       "      <th>first_name</th>\n",
       "      <th>last_name</th>\n",
       "    </tr>\n",
       "  </thead>\n",
       "  <tbody>\n",
       "    <tr>\n",
       "      <th>0</th>\n",
       "      <td>145931702</td>\n",
       "      <td>Мерген</td>\n",
       "      <td>Алиев</td>\n",
       "    </tr>\n",
       "    <tr>\n",
       "      <th>1</th>\n",
       "      <td>220211769</td>\n",
       "      <td>Роман</td>\n",
       "      <td>Серов</td>\n",
       "    </tr>\n",
       "  </tbody>\n",
       "</table>\n",
       "</div>"
      ],
      "text/plain": [
       "          id first_name last_name\n",
       "0  145931702     Мерген     Алиев\n",
       "1  220211769      Роман     Серов"
      ]
     },
     "execution_count": 14,
     "metadata": {},
     "output_type": "execute_result"
    }
   ],
   "source": [
    "df = pd.DataFrame(data['response'])\n",
    "df"
   ]
  }
 ],
 "metadata": {
  "kernelspec": {
   "display_name": "Python 3",
   "language": "python",
   "name": "python3"
  },
  "language_info": {
   "codemirror_mode": {
    "name": "ipython",
    "version": 3
   },
   "file_extension": ".py",
   "mimetype": "text/x-python",
   "name": "python",
   "nbconvert_exporter": "python",
   "pygments_lexer": "ipython3",
   "version": "3.11.6"
  }
 },
 "nbformat": 4,
 "nbformat_minor": 2
}
